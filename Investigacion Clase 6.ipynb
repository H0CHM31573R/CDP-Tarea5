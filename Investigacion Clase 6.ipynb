{
 "cells": [
  {
   "cell_type": "markdown",
   "id": "2900d7be-46fb-440a-b361-293731dd7058",
   "metadata": {},
   "source": [
    "#### Investigar\n",
    "\n",
    "* Proyección vectorial\n",
    "    * Definir una función para calculo en numpy\n",
    "    * interpretación\n",
    "    * aplicación o caso de uso en DS u otras ciencias de tu interés: solo se necesita nombrar el caso de uso, no desarrollarlo o programarlo, tip: Hay un algoritmo de ML cuyo nombre puede ser  útil.\n",
    "* Producto cruz\n",
    "    * calculo en numpy\n",
    "    * interpretación\n",
    "    * aplicación o caso de uso en DS u otras ciencias de tu interés: solo se necesita nombrar el caso de uso, no desarrollarlo o programarlo\n",
    "    \n",
    "#### Referencias\n",
    "\n",
    "* https://www.oreilly.com/library/view/data-science-from/9781491901410/ch04.html\n",
    "* https://towardsdatascience.com/linear-algebra-cheat-sheet-for-deep-learning-cd67aba4526c\n",
    "* https://www.analyticsvidhya.com/blog/2017/05/comprehensive-guide-to-linear-algebra/\n",
    "* https://towardsdatascience.com/boost-your-data-sciences-skills-learn-linear-algebra-2c30fdd008cf\n",
    "* https://machinelearningmastery.com/examples-of-linear-algebra-in-machine-learning/\n",
    "* https://www.youtube.com/playlist?list=PLZHQObOWTQDPD3MizzM2xVFitgF8hE_ab"
   ]
  },
  {
   "cell_type": "code",
   "execution_count": 3,
   "id": "08342764-b288-442f-92c6-1e8c65584347",
   "metadata": {},
   "outputs": [],
   "source": [
    "#imports\n",
    "import numpy as np\n",
    "import matplotlib.pyplot as plt"
   ]
  },
  {
   "cell_type": "markdown",
   "id": "ed3d9f3f-1962-4b35-ac3b-2d358c8c0f4d",
   "metadata": {},
   "source": [
    "# Proyeccion Vectorial"
   ]
  },
  {
   "cell_type": "code",
   "execution_count": 29,
   "id": "2046f64f-9053-4bdb-a58b-959046274ba8",
   "metadata": {},
   "outputs": [
    {
     "data": {
      "image/png": "[encoded data removed]",
      "text/plain": [
       "<Figure size 432x288 with 1 Axes>"
      ]
     },
     "metadata": {
      "needs_background": "light"
     },
     "output_type": "display_data"
    }
   ],
   "source": [
    "#Funcion de numpy\n",
    "def vector_proj(a,b):\n",
    "    \"\"\"Projects non zero vector b onto non zero vector a\"\"\"\n",
    "    anorm = np.linalg.norm(a)\n",
    "    return (np.dot(a,b)/anorm**2)*a\n",
    "\n",
    "a = np.array([9,2])\n",
    "b = np.array([2,8])\n",
    "proj_ab = vector_proj(a,b)\n",
    "\n",
    "coordinates = np.array([a,b,proj_ab])\n",
    "o = np.array([[0, 0, 0], [0, 0, 0]])\n",
    "plt.quiver(*o, coordinates[:, 0], coordinates[:, 1], color=['blue','green', 'red'], angles='xy', scale_units='xy', scale=1)\n",
    "plt.ylim(-2,10),\n",
    "plt.xlim(-2,10)\n",
    "plt.gca().set_aspect('equal', adjustable='box')\n",
    "plt.show()\n",
    "\n",
    "#Azul: Vector a \n",
    "#Verde: vector b \n",
    "#Rojo: proyeccion de b sobre a"
   ]
  },
  {
   "cell_type": "markdown",
   "id": "aac80993-a178-44b7-8b68-341602803788",
   "metadata": {},
   "source": [
    "## Interpretacion\n",
    "Una proyeccion es una forma de visualizar algun vector _sobre_ otro vector. Imaginemos que tenemos el vector a y el vector b, si nosotros lograsemos \"caminar\" sobre el vector a (es decir, trazamos una ruta paralela sobre a), y existiese una fuente luminosa \"sobre\" a y b de tal manera que todos los rayos de luz caen ortogonalmente sobre a, entonces que tanto recorrido sobre a podemos caminar mientras estamos debajo de la sombra de b. Esa sombra, es la proyeccion de b sobre a.\n",
    "\n",
    "Pero es importante recordar que la proyeccion termina siendo el producto entre un escalar y un vector, en el caso anterior el vector es a; de tal manera que lo que esa sombra lo que realmente nos indica es _que tanto afecta la magnitud de b en la direccion de a_, un ejemplo clasico de uso es descifrar los componentes de fuerza sobre algun plano inclinado, como el peso de una caja deslizandose en una rampa."
   ]
  },
  {
   "cell_type": "markdown",
   "id": "91864eaa-19e3-4cee-9a85-c41d3019a215",
   "metadata": {},
   "source": [
    "## Aplicacion\n",
    "Least Angle Regression utiliza proyeccion de vectores para determinar correlacion"
   ]
  },
  {
   "cell_type": "markdown",
   "id": "30bb4731-5508-4b01-9bbd-394d0d5f87db",
   "metadata": {},
   "source": [
    "# Producto Cruz"
   ]
  },
  {
   "cell_type": "code",
   "execution_count": 38,
   "id": "82c6f944-3ace-436a-918e-b83babbed176",
   "metadata": {},
   "outputs": [
    {
     "data": {
      "text/plain": [
       "array([-3.,  6., -3.])"
      ]
     },
     "execution_count": 38,
     "metadata": {},
     "output_type": "execute_result"
    }
   ],
   "source": [
    "#Funcion de numpy\n",
    "def cross_product(a,b):\n",
    "    aa = np.zeros(3)\n",
    "    bb = np.zeros(3)\n",
    "    aa[0:len(a)] = a[0:len(a)]\n",
    "    bb[0:len(b)] = b[0:len(b)]\n",
    "    return np.array([aa[1]*bb[2] - aa[2]*bb[1], aa[2]*bb[0] - aa[0]*bb[2], aa[0]*bb[1] - aa[1]*bb[0]])\n",
    "\n",
    "cross_product(np.array([1,2,3]), np.array([4,5,6]))"
   ]
  },
  {
   "cell_type": "markdown",
   "id": "4a7d1f99-f64a-4927-a704-681dc80d94b1",
   "metadata": {},
   "source": [
    "## Interpretacion\n",
    "\n",
    "El producto cruz genera un nuevo vector que es perpendicular a los dos vectores sobre el cual se realizo el producto, pero la propiedad interesante es que si utilizaran los vectores, a y b, para formar dos lados de un paralelogramo, entonces la magnitud resultante del producto cruz es el area del paralelogramo resultante."
   ]
  },
  {
   "cell_type": "markdown",
   "id": "e04f2cb2-138e-4e50-a34e-b5fa78d226e8",
   "metadata": {},
   "source": [
    "## Aplicacion\n",
    "\n",
    "El producto cruz es util para determinar los momentos de fuerza sobre un punto y sobre una linea"
   ]
  }
 ],
 "metadata": {
  "kernelspec": {
   "display_name": "Python 3 (ipykernel)",
   "language": "python",
   "name": "python3"
  },
  "language_info": {
   "codemirror_mode": {
    "name": "ipython",
    "version": 3
   },
   "file_extension": ".py",
   "mimetype": "text/x-python",
   "name": "python",
   "nbconvert_exporter": "python",
   "pygments_lexer": "ipython3",
   "version": "3.9.7"
  }
 },
 "nbformat": 4,
 "nbformat_minor": 5
}
